{
 "cells": [
  {
   "cell_type": "markdown",
   "id": "46987cde-6ea5-4545-8697-17a49d843566",
   "metadata": {},
   "source": [
    "## Prepare Libraries and Class Term Data"
   ]
  },
  {
   "cell_type": "code",
   "execution_count": null,
   "id": "f9f871d5-5424-42ab-9e76-c1a981431e83",
   "metadata": {},
   "outputs": [],
   "source": [
    "import pandas as pd\n",
    "import numpy as np"
   ]
  },
  {
   "cell_type": "markdown",
   "id": "1d6e8aed-ea04-4502-b75c-63ee6502a57b",
   "metadata": {},
   "source": [
    "### Merge three years of program data"
   ]
  },
  {
   "cell_type": "code",
   "execution_count": null,
   "id": "085d5a10-0d41-497e-9a69-effaf3ba0a42",
   "metadata": {},
   "outputs": [],
   "source": [
    "df1 = pd.read_csv('Applied Stats Final Project/CASPA-2022-2023.csv')\n",
    "df1 = df1.loc[df1['decision_code'] == 'Matriculated']\n",
    "df1['Cycle'] = '2022-2023'\n",
    "df1['Cohort'] = 'Class of 2025'"
   ]
  },
  {
   "cell_type": "code",
   "execution_count": null,
   "id": "86bace96-005d-4f7c-87c2-25d77a1da2b3",
   "metadata": {},
   "outputs": [],
   "source": [
    "merge1 = pd.read_csv('Applied Stats Final Project/Student Grades-FA23.csv')\n",
    "merge1 = merge1[['Textbox11', 'Textbox12', 'TermGPA']]\n",
    "merge1 = merge1.rename(columns={'Textbox11':'last_name', 'Textbox12':'first_name'})\n",
    "df1['last_name'] = df1['last_name'].str.lower()\n",
    "merge1['last_name'] = merge1['last_name'].str.lower()\n",
    "merged1 = pd.merge(df1, merge1, on='last_name', how='inner')\n",
    "merged1 = merged1.drop_duplicates()"
   ]
  },
  {
   "cell_type": "code",
   "execution_count": null,
   "id": "ad3a1c8b-9c94-48ff-a79c-dfb01b0e2b7b",
   "metadata": {},
   "outputs": [],
   "source": [
    "merged1.isna().sum()"
   ]
  },
  {
   "cell_type": "code",
   "execution_count": null,
   "id": "f9e765f1-b516-42f8-9622-476a637fb90f",
   "metadata": {},
   "outputs": [],
   "source": [
    "df2 = pd.read_csv('Applied Stats Final Project/CASPA-2023-2024.csv')\n",
    "df2 = df2.loc[df2['decision_code'] == 'Matriculated']\n",
    "df2['Cycle'] = '2023-2024'\n",
    "df2['Cohort'] = 'Class of 2026'"
   ]
  },
  {
   "cell_type": "code",
   "execution_count": null,
   "id": "b84555fa-b33b-406e-9733-fc536d4af967",
   "metadata": {},
   "outputs": [],
   "source": [
    "merge2 = pd.read_csv('Applied Stats Final Project/Student Grades-FA24.csv')\n",
    "merge2 = merge2[['Textbox11', 'Textbox12', 'TermGPA']]\n",
    "merge2 = merge2.rename(columns={'Textbox11':'last_name', 'Textbox12':'first_name'})\n",
    "merged2 = pd.merge(df2, merge2, on='last_name', how='inner')\n",
    "merged2 = merged2.drop_duplicates()"
   ]
  },
  {
   "cell_type": "code",
   "execution_count": null,
   "id": "36b16c3d-8850-4245-babc-554bb8145ae6",
   "metadata": {},
   "outputs": [],
   "source": [
    "merged2.isna().sum()"
   ]
  },
  {
   "cell_type": "code",
   "execution_count": null,
   "id": "635dcbec-c4d5-436e-a737-d85e5acb10bd",
   "metadata": {},
   "outputs": [],
   "source": [
    "df3 = pd.read_csv('Applied Stats Final Project/CASPA-2021-2022.csv')\n",
    "df3 = df3.loc[df3['decision_code'] == 'Matriculated']\n",
    "df3['Cycle'] = '2021-2022'\n",
    "df3['Cohort'] = 'Class of 2024'"
   ]
  },
  {
   "cell_type": "code",
   "execution_count": null,
   "id": "af3d6f2c-6540-4062-b04d-55e534393055",
   "metadata": {},
   "outputs": [],
   "source": [
    "df3.columns"
   ]
  },
  {
   "cell_type": "code",
   "execution_count": null,
   "id": "e852b7ea-17a7-495a-b91c-d62edc836795",
   "metadata": {},
   "outputs": [],
   "source": [
    "df3 = df3.drop(columns=['cumulative_undergraduate_total_gpa', 'post_baccalaureate_total_gpa', 'cumulative_undergraduate_science_total_gpa', 'prerequisite_recommended_coursework_gpa', 'bcp_totals_gpa', 'physics_gpa'])"
   ]
  },
  {
   "cell_type": "code",
   "execution_count": null,
   "id": "1dafac8c-f44c-4a7d-899c-d228b3cb1080",
   "metadata": {},
   "outputs": [],
   "source": [
    "merge3 = pd.read_csv('Applied Stats Final Project/Student Grades-FA22.csv')\n",
    "merge3 = merge3[['Textbox11', 'Textbox12', 'TermGPA']]\n",
    "merge3 = merge3.rename(columns={'Textbox11':'last_name', 'Textbox12':'first_name'})\n",
    "merged3 = pd.merge(df3, merge3, on=['last_name', 'first_name'], how='inner')\n",
    "merged3 = merged3.drop_duplicates()\n",
    "merged3 = merged3.rename(columns={'first_name':'first_name_x'})"
   ]
  },
  {
   "cell_type": "code",
   "execution_count": null,
   "id": "436ae76d-5884-4cc4-adb4-2a4091e5e1eb",
   "metadata": {},
   "outputs": [],
   "source": [
    "df = pd.concat([merged1, merged2, merged3], axis=0, ignore_index=True)"
   ]
  },
  {
   "cell_type": "markdown",
   "id": "afe424ec-41a0-4f01-9749-bd72c5877c1d",
   "metadata": {},
   "source": [
    "#### Remove all identifiers for confidentiality"
   ]
  },
  {
   "cell_type": "code",
   "execution_count": null,
   "id": "e5cfed1e-f9b5-4607-b293-1a43ef49ebf5",
   "metadata": {},
   "outputs": [],
   "source": [
    "df = df.drop(columns=['first_name_x', 'last_name', 'first_name_y'])"
   ]
  },
  {
   "cell_type": "code",
   "execution_count": null,
   "id": "6a4d94c3-6242-426c-aebb-ae94bbf0f1b6",
   "metadata": {},
   "outputs": [],
   "source": [
    "df.columns"
   ]
  },
  {
   "cell_type": "code",
   "execution_count": null,
   "id": "3466d7c3-b5ab-4f21-9a36-3cc190cdbf89",
   "metadata": {},
   "outputs": [],
   "source": [
    "#Confirm shape of dataframe is accurate\n",
    "df.shape"
   ]
  },
  {
   "cell_type": "markdown",
   "id": "b1655bc1-54b6-4412-a9dd-4fac02252458",
   "metadata": {},
   "source": [
    "### Additional data cleaning, check for NA values, drop unneeded columns, drop duplicates, rename columns"
   ]
  },
  {
   "cell_type": "code",
   "execution_count": null,
   "id": "bf08e040-ec35-45c3-b179-bcab549cdea8",
   "metadata": {},
   "outputs": [],
   "source": [
    "df.isna().sum()"
   ]
  },
  {
   "cell_type": "code",
   "execution_count": null,
   "id": "46872074-6f88-458d-9db0-e0ed02455503",
   "metadata": {},
   "outputs": [],
   "source": [
    "df.groupby('Cohort')[['overall_science_total_gpa', 'overall_total_gpa']].mean().reset_index()"
   ]
  },
  {
   "cell_type": "code",
   "execution_count": null,
   "id": "3a004978-1355-433c-96f6-2e498beee83f",
   "metadata": {},
   "outputs": [],
   "source": [
    "df = df.drop(columns=['post_baccalaureate_total_gpa', 'physics_gpa', 'baccalaureate_science_total_gpa'])"
   ]
  },
  {
   "cell_type": "code",
   "execution_count": null,
   "id": "d2ee88ed-6e53-4763-8339-fbcab20020b0",
   "metadata": {},
   "outputs": [],
   "source": [
    "df = df.drop_duplicates()"
   ]
  },
  {
   "cell_type": "code",
   "execution_count": null,
   "id": "efc43bc2-144a-481e-9876-06b9159f381f",
   "metadata": {},
   "outputs": [],
   "source": [
    "df.isna().sum()"
   ]
  },
  {
   "cell_type": "code",
   "execution_count": null,
   "id": "0307b143-8bd2-4b9a-b9f3-1f5d19ea00de",
   "metadata": {},
   "outputs": [],
   "source": [
    "df = df.dropna(subset='TermGPA')"
   ]
  },
  {
   "cell_type": "code",
   "execution_count": null,
   "id": "6ee0fbd5-33f4-4053-bea9-aac5fb85c8c2",
   "metadata": {},
   "outputs": [],
   "source": [
    "df.isna().sum()"
   ]
  },
  {
   "cell_type": "code",
   "execution_count": null,
   "id": "f1aab735-a183-4960-b854-93beb87130ff",
   "metadata": {},
   "outputs": [],
   "source": [
    "df = df.rename(columns={'TermGPA':'FirstTermGPA'})"
   ]
  },
  {
   "cell_type": "code",
   "execution_count": null,
   "id": "29c683f3-4260-44b5-8fbd-5d3bb84c9d28",
   "metadata": {},
   "outputs": [],
   "source": [
    "df.isna().sum()"
   ]
  },
  {
   "cell_type": "markdown",
   "id": "0578fac1-1190-4b09-9d33-65fd8dfebcd7",
   "metadata": {},
   "source": [
    "### Check data types"
   ]
  },
  {
   "cell_type": "code",
   "execution_count": null,
   "id": "61f134e9-90a5-4cb0-a092-78b76be91d31",
   "metadata": {},
   "outputs": [],
   "source": [
    "df.dtypes"
   ]
  },
  {
   "cell_type": "code",
   "execution_count": null,
   "id": "fb103b18-9189-4490-9e16-febb21a2bc39",
   "metadata": {},
   "outputs": [],
   "source": [
    "df['FirstTermGPA'] = df['FirstTermGPA'].astype('float')"
   ]
  },
  {
   "cell_type": "code",
   "execution_count": null,
   "id": "56a38e66-feba-4ff1-ad02-669c5c591236",
   "metadata": {},
   "outputs": [],
   "source": [
    "df.describe()"
   ]
  },
  {
   "cell_type": "code",
   "execution_count": null,
   "id": "8cd6a353-23e1-4c81-9412-a572438cd76b",
   "metadata": {},
   "outputs": [],
   "source": [
    "df.columns"
   ]
  },
  {
   "cell_type": "markdown",
   "id": "d174085f-8763-4583-8b5c-6f7dac86f91d",
   "metadata": {},
   "source": [
    "### Fill final NAs"
   ]
  },
  {
   "cell_type": "code",
   "execution_count": null,
   "id": "534183e4-07f4-40a7-9971-af1322821314",
   "metadata": {},
   "outputs": [],
   "source": [
    "df[['employment_experience_hours_total',\n",
    "       'extracurricular_activities_experience_hours_total',\n",
    "       'health_related_experience_experience_experience_hours_total',\n",
    "       'leadership_experience_hours_total',\n",
    "       'patient_care_experience_experience_hours_total',\n",
    "       'research_experience_hours_total',\n",
    "       'shadowing_experience_experience_hours_total',\n",
    "       'teaching_experience_experience_hours_total',\n",
    "       'volunteer_community_enrichment_experience_hours_total']] = df[['employment_experience_hours_total',\n",
    "       'extracurricular_activities_experience_hours_total',\n",
    "       'health_related_experience_experience_experience_hours_total',\n",
    "       'leadership_experience_hours_total',\n",
    "       'patient_care_experience_experience_hours_total',\n",
    "       'research_experience_hours_total',\n",
    "       'shadowing_experience_experience_hours_total',\n",
    "       'teaching_experience_experience_hours_total',\n",
    "       'volunteer_community_enrichment_experience_hours_total']].fillna('0')"
   ]
  },
  {
   "cell_type": "markdown",
   "id": "f946e1a4-f8b9-4806-9db9-8abb15760d98",
   "metadata": {},
   "source": [
    "### Final check of NA values"
   ]
  },
  {
   "cell_type": "code",
   "execution_count": null,
   "id": "32414e96-3101-486c-8be4-95fa1fb0a905",
   "metadata": {},
   "outputs": [],
   "source": [
    "df.isna().sum()"
   ]
  },
  {
   "cell_type": "code",
   "execution_count": null,
   "id": "3f16d3ac-83f2-49ab-883e-1220dbdbfb8c",
   "metadata": {},
   "outputs": [],
   "source": [
    "df[['employment_experience_hours_total',\n",
    "       'extracurricular_activities_experience_hours_total',\n",
    "       'health_related_experience_experience_experience_hours_total',\n",
    "       'leadership_experience_hours_total',\n",
    "       'patient_care_experience_experience_hours_total',\n",
    "       'research_experience_hours_total',\n",
    "       'shadowing_experience_experience_hours_total',\n",
    "       'teaching_experience_experience_hours_total',\n",
    "       'volunteer_community_enrichment_experience_hours_total']] = df[['employment_experience_hours_total',\n",
    "       'extracurricular_activities_experience_hours_total',\n",
    "       'health_related_experience_experience_experience_hours_total',\n",
    "       'leadership_experience_hours_total',\n",
    "       'patient_care_experience_experience_hours_total',\n",
    "       'research_experience_hours_total',\n",
    "       'shadowing_experience_experience_hours_total',\n",
    "       'teaching_experience_experience_hours_total',\n",
    "       'volunteer_community_enrichment_experience_hours_total']].astype('int')"
   ]
  },
  {
   "cell_type": "markdown",
   "id": "34bf5dbc-f63b-4416-963b-a52fc8fa97e6",
   "metadata": {},
   "source": [
    "### Final check of data types"
   ]
  },
  {
   "cell_type": "code",
   "execution_count": null,
   "id": "0a6cd9c2-7c03-436d-b1b9-1e21a26be0c2",
   "metadata": {},
   "outputs": [],
   "source": [
    "df.dtypes"
   ]
  },
  {
   "cell_type": "markdown",
   "id": "0105aaf9-a9ca-477c-ac4b-df1fff00f535",
   "metadata": {},
   "source": [
    "### Descriptive Statistics"
   ]
  },
  {
   "cell_type": "code",
   "execution_count": null,
   "id": "ed53ed48-bce5-4f70-9e97-e739a514f51b",
   "metadata": {},
   "outputs": [],
   "source": [
    "round(df.describe(), 2)"
   ]
  },
  {
   "cell_type": "markdown",
   "id": "4e5e7c94-21b1-45dc-9f0d-3c75229d5755",
   "metadata": {},
   "source": [
    "## Regression Analysis 1: Predictability of admissions criteria on first-term GPA"
   ]
  },
  {
   "cell_type": "code",
   "execution_count": null,
   "id": "f758f368-85bb-4f9e-a0c2-4805af6dfa51",
   "metadata": {},
   "outputs": [],
   "source": [
    "import statsmodels.api as sm\n",
    "import seaborn as sns\n",
    "import matplotlib.pyplot as plt"
   ]
  },
  {
   "cell_type": "markdown",
   "id": "008b5af2-7bf0-4ff0-b78e-cfc2f430c05c",
   "metadata": {},
   "source": [
    "### Define feature variables (un-comment to include/remove different GPA variables from model)"
   ]
  },
  {
   "cell_type": "code",
   "execution_count": null,
   "id": "36872e4d-58d0-4702-b8f7-033f9106ada5",
   "metadata": {},
   "outputs": [],
   "source": [
    "#baccalaureate GPA \n",
    "#X = df[['baccalaureate_total_gpa','health_related_experience_experience_experience_hours_total','patient_care_experience_experience_hours_total']]\n",
    "#y = df['FirstTermGPA']"
   ]
  },
  {
   "cell_type": "code",
   "execution_count": null,
   "id": "57a2cd4a-836e-4318-a3da-cb17e55c85d2",
   "metadata": {},
   "outputs": [],
   "source": [
    "#prereq GPA \n",
    "X = df[['prerequisite_required_coursework_gpa','health_related_experience_experience_experience_hours_total','patient_care_experience_experience_hours_total']]\n",
    "y = df['FirstTermGPA']"
   ]
  },
  {
   "cell_type": "code",
   "execution_count": null,
   "id": "1405ec08-470f-426b-b436-bbfcb3b076e9",
   "metadata": {},
   "outputs": [],
   "source": [
    "#baccalaureate GPA \n",
    "#var= df[['baccalaureate_total_gpa','health_related_experience_experience_experience_hours_total','patient_care_experience_experience_hours_total','FirstTermGPA']]"
   ]
  },
  {
   "cell_type": "code",
   "execution_count": null,
   "id": "d45fbf6f-8865-4cbf-93f8-ba30b1266128",
   "metadata": {},
   "outputs": [],
   "source": [
    "#prereq GPA \n",
    "var= df[['prerequisite_required_coursework_gpa','health_related_experience_experience_experience_hours_total','patient_care_experience_experience_hours_total','FirstTermGPA']]"
   ]
  },
  {
   "cell_type": "code",
   "execution_count": null,
   "id": "69475b98-5d3c-4957-b8bd-cc48e255295d",
   "metadata": {},
   "outputs": [],
   "source": [
    "corr = var.corr()\n",
    "sns.heatmap(corr, annot=True, cmap='coolwarm')"
   ]
  },
  {
   "cell_type": "markdown",
   "id": "5602c45d-47c8-4cbf-888b-91c5b39179d0",
   "metadata": {},
   "source": [
    "### Fit model"
   ]
  },
  {
   "cell_type": "code",
   "execution_count": null,
   "id": "fc7944fc-5e6f-42b2-adbc-421895377718",
   "metadata": {},
   "outputs": [],
   "source": [
    "from sklearn.linear_model import LinearRegression\n",
    "\n",
    "term_model=LinearRegression()\n",
    "term_model.fit(X, y)"
   ]
  },
  {
   "cell_type": "markdown",
   "id": "1d03c52f-91f6-4bb5-ba24-5eb2c3efd39d",
   "metadata": {},
   "source": [
    "## Checking Regression Assumptions"
   ]
  },
  {
   "cell_type": "markdown",
   "id": "37a69cd3-3fb3-480f-9684-c69bc5d42df5",
   "metadata": {},
   "source": [
    "### R-Squared Value, Summary for first model"
   ]
  },
  {
   "cell_type": "code",
   "execution_count": null,
   "id": "62e87185-b738-4b0a-b8cf-4b3d30d04e08",
   "metadata": {},
   "outputs": [],
   "source": [
    "term_model_r2 = term_model.score(X, y)\n",
    "print('R2: {0}'.format(term_model_r2))"
   ]
  },
  {
   "cell_type": "code",
   "execution_count": null,
   "id": "dcb00220-afb0-458d-84cf-588951abe7bc",
   "metadata": {},
   "outputs": [],
   "source": [
    "import statsmodels.api as sm\n",
    "\n",
    "X_const = sm.add_constant(X)\n",
    "\n",
    "model_sm = sm.OLS(y, X_const).fit()\n",
    "\n",
    "print(model_sm.summary())"
   ]
  },
  {
   "cell_type": "markdown",
   "id": "409a5393-2d60-4122-ae72-344db853ec84",
   "metadata": {},
   "source": [
    "### Define function to calculate residuals"
   ]
  },
  {
   "cell_type": "code",
   "execution_count": null,
   "id": "a05a57d9-8713-4a02-9f2f-7b516055a41c",
   "metadata": {},
   "outputs": [],
   "source": [
    "def calculate_residuals(model, features, label):\n",
    "    \"\"\"\n",
    "    Creates predictions on the features with the model and calculates residuals\n",
    "    \"\"\"\n",
    "    predictions = model.predict(features)\n",
    "    df_results = pd.DataFrame({'Actual': label, 'Predicted': predictions})\n",
    "    df_results['Residuals'] = abs(df_results['Actual']) - abs(df_results['Predicted'])\n",
    "    \n",
    "    return df_results"
   ]
  },
  {
   "cell_type": "code",
   "execution_count": null,
   "id": "6f3688f5-72db-4055-9549-3c629f2492c9",
   "metadata": {},
   "outputs": [],
   "source": [
    "calculate_residuals(term_model, X, y)"
   ]
  },
  {
   "cell_type": "code",
   "execution_count": null,
   "id": "ed7fc1cb-1109-48e5-8203-ab6c5cdd1429",
   "metadata": {},
   "outputs": [],
   "source": [
    "# Calculatie residuals for the plot\n",
    "df_results = calculate_residuals(term_model, X, y)"
   ]
  },
  {
   "cell_type": "markdown",
   "id": "3c9b61b0-45a7-4d46-b770-1518f36dabc8",
   "metadata": {},
   "source": [
    "### Assumption 1: Linearity"
   ]
  },
  {
   "cell_type": "code",
   "execution_count": null,
   "id": "71648626-7c5a-4044-bdd6-15e39f7bbf3f",
   "metadata": {},
   "outputs": [],
   "source": [
    "plt.figure(figsize=(8, 6))  # Set figure size\n",
    "sns.scatterplot(x=df_results['Actual'], y=df_results['Predicted'], color='dodgerblue', alpha=0.7, edgecolor='black')\n",
    "\n",
    "# Ideal prediction line\n",
    "line_coords = np.arange(df_results.min().min(), df_results.max().max())\n",
    "plt.plot(line_coords, line_coords, color='darkorange', linestyle='--', label='Ideal Fit')\n",
    "\n",
    "# Set axis limits to start at 0\n",
    "plt.xlim(0, df_results['Actual'].max() + 0.5)\n",
    "plt.ylim(0, df_results['Predicted'].max() + 0.5)\n",
    "\n",
    "# Titles & labels\n",
    "plt.title('Actual vs. Predicted')\n",
    "plt.xlabel('Actual')\n",
    "plt.ylabel('Predicted')\n",
    "plt.legend()\n",
    "plt.show()\n"
   ]
  },
  {
   "cell_type": "markdown",
   "id": "61ee061b-19ae-47be-8bb4-834d2cac9c81",
   "metadata": {},
   "source": [
    "### Assumption 2: Normality of Residuals"
   ]
  },
  {
   "cell_type": "code",
   "execution_count": null,
   "id": "71c7c983-74d1-4613-961a-f1fa75c802d0",
   "metadata": {},
   "outputs": [],
   "source": [
    "from statsmodels.stats.diagnostic import normal_ad\n",
    "    \n",
    "# Calculating residuals for the Anderson-Darling test\n",
    "df_results = calculate_residuals(term_model, X, y)\n",
    "    \n",
    "# Performing the test on the residuals\n",
    "p_value = normal_ad(df_results['Residuals'])[1]\n",
    "print('p-value:', p_value)\n",
    "    \n",
    "# Plotting the residuals distribution\n",
    "plt.subplots(figsize=(12, 6))\n",
    "plt.title('Distribution of Residuals')\n",
    "sns.distplot(df_results['Residuals'])\n",
    "plt.show()\n"
   ]
  },
  {
   "cell_type": "markdown",
   "id": "21c15a3a-421a-42ca-bf8c-a701c2a00207",
   "metadata": {},
   "source": [
    "### Assumption 3: Multicollinearity"
   ]
  },
  {
   "cell_type": "code",
   "execution_count": null,
   "id": "4da5e38d-cdad-4547-b14e-5a529cd1f219",
   "metadata": {},
   "outputs": [],
   "source": [
    "from statsmodels.stats.outliers_influence import variance_inflation_factor\n",
    "\n",
    "# Plotting the heatmap\n",
    "plt.figure(figsize = (10,8))\n",
    "sns.heatmap(pd.DataFrame(X).corr(), annot=True, cmap='coolwarm')\n",
    "plt.title('Correlation of Variables')\n",
    "plt.show()\n",
    "\n",
    "vif_data = pd.DataFrame()\n",
    "vif_data[\"Feature\"] = X.columns\n",
    "vif_data[\"VIF\"] = [variance_inflation_factor(X.values, i) for i in range(X.shape[1])]\n",
    "\n",
    "print(vif_data)\n"
   ]
  },
  {
   "cell_type": "markdown",
   "id": "ffae70c3-ddfe-450d-96dd-743e65ad0d12",
   "metadata": {},
   "source": [
    "### Assumption 4: Homoscedasticity"
   ]
  },
  {
   "cell_type": "code",
   "execution_count": null,
   "id": "308c68b6-f7fe-4220-9302-0db0d10a5303",
   "metadata": {},
   "outputs": [],
   "source": [
    "df_results = calculate_residuals(term_model, X, y)\n",
    "\n",
    "# Plotting the residuals\n",
    "plt.subplots(figsize=(12, 6))\n",
    "ax = plt.subplot(111)\n",
    "plt.scatter(x=df_results.index, y=df_results.Residuals, alpha=0.5)\n",
    "plt.plot(np.repeat(0, df_results.index.max()), color='darkorange', linestyle='--')\n",
    "ax.spines['right'].set_visible(False)  # Removing the right spine\n",
    "ax.spines['top'].set_visible(False)  # Removing the top spine\n",
    "plt.title('Residuals')\n",
    "plt.show()  "
   ]
  },
  {
   "cell_type": "code",
   "execution_count": null,
   "id": "69ed7439-418a-4192-99ee-0dfb09e8e982",
   "metadata": {},
   "outputs": [],
   "source": []
  },
  {
   "cell_type": "code",
   "execution_count": null,
   "id": "45074b73-5e78-438b-8c81-5588c730b04b",
   "metadata": {},
   "outputs": [],
   "source": []
  },
  {
   "cell_type": "code",
   "execution_count": null,
   "id": "8e81102e-7a41-4d91-898a-84141e32b102",
   "metadata": {},
   "outputs": [],
   "source": []
  },
  {
   "cell_type": "code",
   "execution_count": null,
   "id": "39b56eb7-fd28-46c9-9e54-2efa7b85b474",
   "metadata": {},
   "outputs": [],
   "source": []
  },
  {
   "cell_type": "markdown",
   "id": "69107673-04dc-4349-b58d-8194471fa8e9",
   "metadata": {},
   "source": [
    "## Preparation for Regression Analysis 2: Predictability of Admissions Characteristics on PANCE Score"
   ]
  },
  {
   "cell_type": "markdown",
   "id": "9aad6d56-7295-4bd8-bd4a-48bc8b4578eb",
   "metadata": {},
   "source": [
    "### Load Data"
   ]
  },
  {
   "cell_type": "code",
   "execution_count": null,
   "id": "1f891582-e07f-438e-9c89-964627179741",
   "metadata": {},
   "outputs": [],
   "source": [
    "pance = pd.read_excel('Applied Stats Final Project/PANCE Scores CO22_23_24.xlsx')"
   ]
  },
  {
   "cell_type": "code",
   "execution_count": null,
   "id": "c1459164-e0d2-4c0c-be93-ffca44b69210",
   "metadata": {},
   "outputs": [],
   "source": [
    "caspa_hist = pd.read_excel('Applied Stats Final Project/CASPA_CO22_23_24_Data.xlsx')"
   ]
  },
  {
   "cell_type": "markdown",
   "id": "1f25a413-8a52-4e94-be0c-3d2d4baff38c",
   "metadata": {},
   "source": [
    "### Merge Data"
   ]
  },
  {
   "cell_type": "code",
   "execution_count": null,
   "id": "41ba3731-2ce5-4d9a-9e38-4a82d48f095e",
   "metadata": {},
   "outputs": [],
   "source": [
    "pmerge = pd.merge(caspa_hist, pance, on='Last Name', how='left')"
   ]
  },
  {
   "cell_type": "markdown",
   "id": "553e0521-84d8-4c22-9f96-bc363bc2f00c",
   "metadata": {},
   "source": [
    "### Drop NA values, name columns to maintain confidentiality"
   ]
  },
  {
   "cell_type": "code",
   "execution_count": null,
   "id": "09e85f6e-5581-4f9a-8f74-9b62afc69c96",
   "metadata": {},
   "outputs": [],
   "source": [
    "pmerge = pmerge.dropna()"
   ]
  },
  {
   "cell_type": "code",
   "execution_count": null,
   "id": "a998f37d-d8f0-4a13-accc-4a7e60ff94f3",
   "metadata": {},
   "outputs": [],
   "source": [
    "pmerge.isna().sum()"
   ]
  },
  {
   "cell_type": "code",
   "execution_count": null,
   "id": "efcf6421-3606-4bc4-a8c4-84aad8ed391b",
   "metadata": {},
   "outputs": [],
   "source": [
    "pmerge = pmerge.drop(columns=['Last Name', 'First Name'])"
   ]
  },
  {
   "cell_type": "code",
   "execution_count": null,
   "id": "1c764843-1a8f-4e8b-8b64-f5a6d184ab67",
   "metadata": {},
   "outputs": [],
   "source": [
    "pmerge"
   ]
  },
  {
   "cell_type": "markdown",
   "id": "a59ed781-2b83-4314-bd9f-7ed6a882a811",
   "metadata": {},
   "source": [
    "### Check of dtypes and renaming"
   ]
  },
  {
   "cell_type": "code",
   "execution_count": null,
   "id": "fc9d3e9c-b0b8-4979-b067-893b0fa2d8f8",
   "metadata": {},
   "outputs": [],
   "source": [
    "pmerge.dtypes"
   ]
  },
  {
   "cell_type": "code",
   "execution_count": null,
   "id": "f68cffec-6fe8-4fb0-bac7-873d46ed3414",
   "metadata": {},
   "outputs": [],
   "source": [
    "pmerge = pmerge.rename(columns={'Score':'PANCE Score'})"
   ]
  },
  {
   "cell_type": "code",
   "execution_count": null,
   "id": "3b2892a3-0275-4ebb-9c27-43b866d3bbbc",
   "metadata": {},
   "outputs": [],
   "source": [
    "pmerge.columns"
   ]
  },
  {
   "cell_type": "code",
   "execution_count": null,
   "id": "8cbb846b-e283-49f3-8ebd-3006879dfe06",
   "metadata": {},
   "outputs": [],
   "source": [
    "round(pmerge.describe(), 2)"
   ]
  },
  {
   "cell_type": "markdown",
   "id": "0044f185-c44f-4038-80aa-6ff30ba0bb63",
   "metadata": {},
   "source": [
    "### Define features for second regression model (un-comment to include/exclude GPA variables)"
   ]
  },
  {
   "cell_type": "code",
   "execution_count": null,
   "id": "f762bc03-d279-4996-a21d-f631024defe2",
   "metadata": {},
   "outputs": [],
   "source": [
    "# #Prerequisite GPA\n",
    "X = pmerge[['prerequisite_required_coursework_gpa','gpa_overall_science_gpa']]\n",
    "y = pmerge['PANCE Score']"
   ]
  },
  {
   "cell_type": "code",
   "execution_count": null,
   "id": "19ad81d1-492b-42d3-8182-c77ed7d60669",
   "metadata": {},
   "outputs": [],
   "source": [
    "# #Overall total GPA\n",
    "# X = pmerge[['overall_total_gpa', 'gpa_overall_science_gpa']]\n",
    "# y = pmerge['PANCE Score']"
   ]
  },
  {
   "cell_type": "code",
   "execution_count": null,
   "id": "39ebfb41-c684-4952-a151-a0a32444aebd",
   "metadata": {},
   "outputs": [],
   "source": [
    "# #Prerequisite GPA\n",
    "var = pmerge[['prerequisite_required_coursework_gpa', 'gpa_overall_science_gpa','PANCE Score']]"
   ]
  },
  {
   "cell_type": "code",
   "execution_count": null,
   "id": "d3c9eb6e-d8cd-48f5-b91b-303f3c05fcc0",
   "metadata": {},
   "outputs": [],
   "source": [
    "# #Overall total GPA\n",
    "# var = pmerge[['overall_total_gpa', 'gpa_overall_science_gpa','PANCE Score']]"
   ]
  },
  {
   "cell_type": "code",
   "execution_count": null,
   "id": "4e164260-6ca9-436c-9f7e-8db5febf69e8",
   "metadata": {},
   "outputs": [],
   "source": [
    "corr = var.corr()\n",
    "sns.heatmap(corr, annot=True, cmap='coolwarm')"
   ]
  },
  {
   "cell_type": "markdown",
   "id": "170b50b6-e120-40a2-b66a-cf97231cc2d5",
   "metadata": {},
   "source": [
    "### Fit model"
   ]
  },
  {
   "cell_type": "code",
   "execution_count": null,
   "id": "46081a6b-00a7-48b9-a4fe-fd743178492a",
   "metadata": {},
   "outputs": [],
   "source": [
    "from sklearn.linear_model import LinearRegression"
   ]
  },
  {
   "cell_type": "code",
   "execution_count": null,
   "id": "084d2176-1890-4be7-985c-56f78e50e22b",
   "metadata": {},
   "outputs": [],
   "source": [
    "pance_model = LinearRegression()"
   ]
  },
  {
   "cell_type": "code",
   "execution_count": null,
   "id": "cc521e7c-d022-4940-95c7-20e6016ca859",
   "metadata": {},
   "outputs": [],
   "source": [
    "pance_model.fit(X, y)"
   ]
  },
  {
   "cell_type": "markdown",
   "id": "681c8369-ef0c-4799-9c01-0f5beb4e7301",
   "metadata": {},
   "source": [
    "### R Squared Value, Coefficients, Summary"
   ]
  },
  {
   "cell_type": "code",
   "execution_count": null,
   "id": "dba5ad7b-f697-464e-b326-705de0a3e2ca",
   "metadata": {},
   "outputs": [],
   "source": [
    "pance_model_r2 = pance_model.score(X, y)\n",
    "print('R2: {0}'.format(pance_model_r2))"
   ]
  },
  {
   "cell_type": "code",
   "execution_count": null,
   "id": "f22a641d-12bf-4d75-be8a-839faebd10d1",
   "metadata": {},
   "outputs": [],
   "source": [
    "print('Coefficients:', pance_model.coef_)"
   ]
  },
  {
   "cell_type": "code",
   "execution_count": null,
   "id": "e41c3917-f550-4a12-a6c7-13630b63bd17",
   "metadata": {},
   "outputs": [],
   "source": [
    "import statsmodels.api as sm\n",
    "\n",
    "X_const = sm.add_constant(X)\n",
    "\n",
    "model_sm = sm.OLS(y, X_const).fit()\n",
    "\n",
    "print(model_sm.summary())"
   ]
  },
  {
   "cell_type": "markdown",
   "id": "94478c97-aae2-4513-8c22-5ee052ee7e76",
   "metadata": {},
   "source": [
    "### Define function for calculating residuals"
   ]
  },
  {
   "cell_type": "code",
   "execution_count": null,
   "id": "1db730f2-86f6-4ee8-baef-2f0606ec955a",
   "metadata": {},
   "outputs": [],
   "source": [
    "def calculate_residuals(model, features, label):\n",
    "  \n",
    "    predictions = model.predict(features)\n",
    "    df_results = pd.DataFrame({'Actual': label, 'Predicted': predictions})\n",
    "    df_results['Residuals'] = abs(df_results['Actual']) - abs(df_results['Predicted'])\n",
    "    \n",
    "    return df_results\n",
    "\n",
    "calculate_residuals(pance_model, X, y)"
   ]
  },
  {
   "cell_type": "markdown",
   "id": "91ced430-5b1f-466a-8563-81697b1819fc",
   "metadata": {},
   "source": [
    "### Assumption 1: Linearity"
   ]
  },
  {
   "cell_type": "code",
   "execution_count": null,
   "id": "5801e9ce-69e4-4296-a3fc-6c2392ed2326",
   "metadata": {},
   "outputs": [],
   "source": [
    "# Calculating residuals for the plot\n",
    "df_results = calculate_residuals(pance_model, X, y)\n",
    "\n",
    "plt.figure(figsize=(8, 6))  # Set figure size\n",
    "sns.scatterplot(x=df_results['Actual'], y=df_results['Predicted'], color='dodgerblue', alpha=0.7, edgecolor='black')\n",
    "\n",
    "# Ideal Regression line\n",
    "line_coords = np.arange(df_results.min().min(), df_results.max().max())\n",
    "plt.plot(line_coords, line_coords, color='darkorange', linestyle='--', label='Ideal Fit')\n",
    "\n",
    "plt.xlim(0, df_results['Actual'].max() + 0.5)\n",
    "plt.ylim(0, df_results['Predicted'].max() + 0.5)\n",
    "\n",
    "# Titles & labels\n",
    "plt.title('Actual vs. Predicted')\n",
    "plt.xlabel('Actual')\n",
    "plt.ylabel('Predicted')\n",
    "plt.legend()\n",
    "plt.show()"
   ]
  },
  {
   "cell_type": "markdown",
   "id": "0dcc511f-bf15-48d1-a851-375707752a22",
   "metadata": {},
   "source": [
    "### Assumption 2: Normality of residuals"
   ]
  },
  {
   "cell_type": "code",
   "execution_count": null,
   "id": "61b1b9e1-108e-483c-9f6f-7cda9bae7e4b",
   "metadata": {},
   "outputs": [],
   "source": [
    "from statsmodels.stats.diagnostic import normal_ad\n",
    "    \n",
    "# Calculating residuals for the Anderson-Darling test\n",
    "df_results = calculate_residuals(pance_model, X, y)\n",
    "    \n",
    "# Performing the test on the residuals\n",
    "p_value = normal_ad(df_results['Residuals'])[1]\n",
    "print('p-value from the test:', p_value)\n",
    "    \n",
    "# Plotting the residuals distribution\n",
    "plt.subplots(figsize=(12, 6))\n",
    "plt.title('Distribution of Residuals')\n",
    "sns.distplot(df_results['Residuals'])\n",
    "plt.show()"
   ]
  },
  {
   "cell_type": "markdown",
   "id": "a32debe3-3050-46fc-8b8f-5bc1c95eae3c",
   "metadata": {},
   "source": [
    "### Assumption 3: Multicollinearity"
   ]
  },
  {
   "cell_type": "code",
   "execution_count": null,
   "id": "1cff300c-b60e-4714-a223-0a538b7b2cc3",
   "metadata": {},
   "outputs": [],
   "source": [
    "from statsmodels.stats.outliers_influence import variance_inflation_factor"
   ]
  },
  {
   "cell_type": "code",
   "execution_count": null,
   "id": "15fff954-3775-45c6-b588-ead3ad6b482b",
   "metadata": {},
   "outputs": [],
   "source": [
    "# Plotting the heatmap\n",
    "plt.figure(figsize = (10,8))\n",
    "sns.heatmap(pd.DataFrame(X).corr(), annot=True, cmap='coolwarm')\n",
    "plt.title('Correlation of Variables')\n",
    "plt.show()"
   ]
  },
  {
   "cell_type": "markdown",
   "id": "2a952a20-80cb-4e21-8a3c-d7c5b8819266",
   "metadata": {},
   "source": []
  },
  {
   "cell_type": "code",
   "execution_count": null,
   "id": "f2f43a5e-5a63-4dcb-982d-207861e5607c",
   "metadata": {},
   "outputs": [],
   "source": [
    "vif_data = pd.DataFrame()\n",
    "vif_data[\"Feature\"] = X.columns\n",
    "vif_data[\"VIF\"] = [variance_inflation_factor(X.values, i) for i in range(X.shape[1])]"
   ]
  },
  {
   "cell_type": "code",
   "execution_count": null,
   "id": "71fd2095-b306-4e22-a2f5-9709baf9582f",
   "metadata": {},
   "outputs": [],
   "source": [
    "print(vif_data)"
   ]
  },
  {
   "cell_type": "markdown",
   "id": "594dc71f-53d2-4ff9-890b-e815786df26b",
   "metadata": {},
   "source": [
    "### Assumption 4: Homoscedasticity"
   ]
  },
  {
   "cell_type": "code",
   "execution_count": null,
   "id": "b27a3fad-2b62-4b25-a0b7-f117baf9641b",
   "metadata": {},
   "outputs": [],
   "source": [
    " df_results = calculate_residuals(pance_model, X, y)\n",
    "\n",
    "# Plotting the residuals\n",
    "plt.subplots(figsize=(12, 6))\n",
    "ax = plt.subplot(111)\n",
    "plt.scatter(x=df_results.index, y=df_results.Residuals, alpha=0.5)\n",
    "plt.plot(np.repeat(0, df_results.index.max()), color='darkorange', linestyle='--')\n",
    "ax.spines['right'].set_visible(False)  # Removing the right spine\n",
    "ax.spines['top'].set_visible(False)  # Removing the top spine\n",
    "plt.title('Homoscedasticity')\n",
    "plt.show()  "
   ]
  },
  {
   "cell_type": "code",
   "execution_count": null,
   "id": "f2c155fc-505b-4cf5-b518-d4fa9be38112",
   "metadata": {},
   "outputs": [],
   "source": []
  },
  {
   "cell_type": "code",
   "execution_count": null,
   "id": "b1137bdb-4f28-4b6a-bb4a-8d21dabdff27",
   "metadata": {},
   "outputs": [],
   "source": []
  },
  {
   "cell_type": "code",
   "execution_count": null,
   "id": "0e561332-5c15-40ef-9b66-97c299b57e61",
   "metadata": {},
   "outputs": [],
   "source": []
  },
  {
   "cell_type": "markdown",
   "id": "a83ae158-23b8-4547-9ead-ec50f10e567e",
   "metadata": {},
   "source": [
    "### Research Question 3: Is First-Term GPA Predictive of PANCE score?"
   ]
  },
  {
   "cell_type": "code",
   "execution_count": null,
   "id": "c23903bc-062f-468a-88f3-f7566f497ec8",
   "metadata": {},
   "outputs": [],
   "source": [
    "pmerge['CASPA ID'] = pmerge['CASPA ID'].astype(str)\n",
    "df['cas_id'] = df['cas_id'].astype(str)\n",
    "\n",
    "fmerge = pd.merge(pmerge, df, left_on='CASPA ID', right_on='cas_id', how='inner')"
   ]
  },
  {
   "cell_type": "code",
   "execution_count": null,
   "id": "788b9418-16ab-45a9-a1fd-2684ff5607fd",
   "metadata": {},
   "outputs": [],
   "source": [
    "fmerge.head()"
   ]
  },
  {
   "cell_type": "code",
   "execution_count": null,
   "id": "efb6215f-389b-472d-9084-15104d3fe1f6",
   "metadata": {},
   "outputs": [],
   "source": [
    "fmerge.isna().sum()"
   ]
  },
  {
   "cell_type": "code",
   "execution_count": null,
   "id": "91cf1353-fd96-4fb9-88ef-532de76cf6b6",
   "metadata": {},
   "outputs": [],
   "source": [
    "X2 = fmerge[['FirstTermGPA', 'baccalaureate_total_gpa', 'patient_care_experience_experience_hours_total', 'health_related_experience_experience_experience_hours_total', 'prerequisite_required_coursework_gpa_x']]\n",
    "y2 = fmerge['PANCE Score']"
   ]
  },
  {
   "cell_type": "code",
   "execution_count": null,
   "id": "4085235b-5d8c-468f-a482-f399c09d9f32",
   "metadata": {},
   "outputs": [],
   "source": [
    "X2_const = sm.add_constant(X2)\n",
    "\n",
    "model_sm2 = sm.OLS(y2, X2_const).fit()\n",
    "\n",
    "print(model_sm2.summary())"
   ]
  },
  {
   "cell_type": "code",
   "execution_count": null,
   "id": "cd073588-8dda-410a-a58c-9abc7f9ee0c4",
   "metadata": {},
   "outputs": [],
   "source": [
    "gpa_model = LinearRegression()\n",
    "gpa_model.fit(X2, y2)"
   ]
  },
  {
   "cell_type": "code",
   "execution_count": null,
   "id": "5843d7cb-b2db-4f69-be28-2c9dffb862ea",
   "metadata": {},
   "outputs": [],
   "source": [
    "gpa_model.score(X2, y2)"
   ]
  },
  {
   "cell_type": "markdown",
   "id": "0057f520-eb6f-48da-a68d-57fdfbba8d45",
   "metadata": {},
   "source": [
    "### Condensed Assumptions"
   ]
  },
  {
   "cell_type": "code",
   "execution_count": null,
   "id": "93d224f0-a914-4537-95e0-bacbb200cfb4",
   "metadata": {},
   "outputs": [],
   "source": [
    "df_results2 = calculate_residuals(gpa_model, X2, y2)\n"
   ]
  },
  {
   "cell_type": "code",
   "execution_count": null,
   "id": "f169761b-8b69-4946-8fd5-fffd2e7902b1",
   "metadata": {},
   "outputs": [],
   "source": [
    "df_results2"
   ]
  },
  {
   "cell_type": "code",
   "execution_count": null,
   "id": "2863349a-e33b-4d04-8075-708643e50537",
   "metadata": {},
   "outputs": [],
   "source": [
    "sns.scatterplot(x=df_results2['Actual'], y=df_results['Predicted'], color='dodgerblue')"
   ]
  },
  {
   "cell_type": "code",
   "execution_count": null,
   "id": "3e7b95fd-4fcc-474c-92c1-ffa1b2b29a13",
   "metadata": {},
   "outputs": [],
   "source": [
    "sns.distplot(df_results2['Residuals'])"
   ]
  },
  {
   "cell_type": "code",
   "execution_count": null,
   "id": "6fc96265-c4f6-4419-98a2-c848a4c243bc",
   "metadata": {},
   "outputs": [],
   "source": [
    "vif = pd.DataFrame()\n",
    "vif['Feature'] = X2.columns\n",
    "vif['VIF'] = [variance_inflation_factor(X2.values, i) for i in range(X2.shape[1])]\n",
    "vif"
   ]
  },
  {
   "cell_type": "code",
   "execution_count": null,
   "id": "8add7350-c2e1-45ee-bf5e-e034a6471aad",
   "metadata": {},
   "outputs": [],
   "source": [
    "plt.scatter(x=df_results2.index, y=df_results2.Residuals, alpha=0.5)"
   ]
  },
  {
   "cell_type": "code",
   "execution_count": null,
   "id": "aa9667d6-283b-4e05-8eb3-584278826688",
   "metadata": {},
   "outputs": [],
   "source": []
  }
 ],
 "metadata": {
  "kernelspec": {
   "display_name": "Python 3 (ipykernel)",
   "language": "python",
   "name": "python3"
  },
  "language_info": {
   "codemirror_mode": {
    "name": "ipython",
    "version": 3
   },
   "file_extension": ".py",
   "mimetype": "text/x-python",
   "name": "python",
   "nbconvert_exporter": "python",
   "pygments_lexer": "ipython3",
   "version": "3.12.4"
  }
 },
 "nbformat": 4,
 "nbformat_minor": 5
}
