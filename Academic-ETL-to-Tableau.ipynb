{
 "cells": [
  {
   "cell_type": "code",
   "execution_count": null,
   "id": "c628a72b-053f-46a4-b114-be2f8c7ae1c5",
   "metadata": {},
   "outputs": [],
   "source": [
    "import pandas as pd\n",
    "import os"
   ]
  },
  {
   "cell_type": "code",
   "execution_count": null,
   "id": "eecb5c1c-3b42-4f62-91fe-2c0a81e9f644",
   "metadata": {
    "scrolled": true
   },
   "outputs": [],
   "source": [
    "def combine_courses(folder_path):\n",
    "\n",
    "    fall_2024_courses = {\n",
    "        'Diagnostic Medicine I', 'Infectious Disease', 'Medical Sciences I',\n",
    "        'Patient Assessment Clinical Reasoning I', 'Pharmacology I',\n",
    "        'Principles of Medicine I'\n",
    "    }\n",
    "    \n",
    "    all_data = []  # List to store DataFrames\n",
    "    \n",
    "    for filename in os.listdir(folder_path):\n",
    "        # Check if the file is a CSV file\n",
    "        if filename.endswith('.csv'):\n",
    "            # Read the CSV file\n",
    "            file_path = os.path.join(folder_path, filename)\n",
    "            df = pd.read_csv(file_path)\n",
    "            \n",
    "            # Extract course name by removing \"CO2026_\" prefix and \".csv\" extension\n",
    "            course_name = filename.replace('CO2026_', '').replace('.csv', '')\n",
    "            course_name = course_name.replace('_', ' ')  # Replace underscores with spaces\n",
    "            \n",
    "            # Add a column for Course Name\n",
    "            df['Course Name'] = course_name.strip()  # Remove any trailing spaces\n",
    "            \n",
    "            # Assign term based on course name\n",
    "            term = 'Fall 2024' if course_name in fall_2024_courses else 'Spring 2025'\n",
    "            \n",
    "            # Add columns for Course Name and Term\n",
    "            df['Term'] = term\n",
    "            \n",
    "            all_data.append(df)  # Append the DataFrame to the list\n",
    "        \n",
    "    # Combine all DataFrames into one\n",
    "    combined_df = pd.concat(all_data, ignore_index=True)\n",
    "    \n",
    "    return combined_df\n",
    "\n",
    "# Example usage\n",
    "folder_path = 'CO2026Grades'\n",
    "combined_df = combine_courses(folder_path)\n",
    "\n",
    "# Display the resulting DataFrame\n",
    "print(combined_df)\n"
   ]
  },
  {
   "cell_type": "code",
   "execution_count": null,
   "id": "f4eb46d4-34d8-4887-a299-5cd57cad868d",
   "metadata": {},
   "outputs": [],
   "source": [
    "combined_df"
   ]
  },
  {
   "cell_type": "code",
   "execution_count": null,
   "id": "190bee2a-f9d6-4960-a68c-c9db37bd0a56",
   "metadata": {},
   "outputs": [],
   "source": [
    "combined_df['Term'].unique()"
   ]
  },
  {
   "cell_type": "code",
   "execution_count": null,
   "id": "b91fdd92-d3ef-4bed-9132-b51f82cef4e7",
   "metadata": {},
   "outputs": [],
   "source": [
    "combined_df['Course Name'].unique()"
   ]
  },
  {
   "cell_type": "code",
   "execution_count": null,
   "id": "1166cca4-7c0b-405f-a69f-64abc501c4bf",
   "metadata": {},
   "outputs": [],
   "source": [
    "gpa_df = pd.melt(combined_df, \n",
    "                  id_vars=['Student ID', 'Course Name'],\n",
    "                  value_vars=[\n",
    "                      'Overall Grade [Total Pts: up to 100 Percentage] |992319',\n",
    "                      'Overall Grade [Total Pts: up to 95.25 Percentage] |989648',\n",
    "                      'Overall Grade [Total Pts: up to 100 Percentage] |990539',\n",
    "                      'Overall Grade [Total Pts: up to 59.04 Percentage] |976373',\n",
    "                      'Overall Grade [Total Pts: up to 86.5 Percentage] |989538',\n",
    "                      'Overall Grade [Total Pts: up to 94.3 Percentage] |984261',\n",
    "                      'Overall Grade [Total Pts: up to 77.25 Percentage] |1044355',\n",
    "                      'Overall Grade [Total Pts: up to 100 Percentage] |1048154',\n",
    "                      'Overall Grade [Total Pts: up to 100 Percentage] |1048622',\n",
    "                      'Overall Grade [Total Pts: up to 78.1 Percentage] |1047884',\n",
    "                      'Overall Grade [Total Pts: up to 81.8625 Percentage] |1049303',\n",
    "                      'Overall Grade [Total Pts: up to 72 Percentage] |1052677',\n",
    "                      'Overall Grade [Total Pts: up to 100 Percentage] |1048042'\n",
    "                  ],\n",
    "                  var_name='variable', \n",
    "                  value_name='Overall GPA')\n"
   ]
  },
  {
   "cell_type": "code",
   "execution_count": null,
   "id": "ede598c3-5db9-4c68-be19-aaba3acd11dc",
   "metadata": {},
   "outputs": [],
   "source": [
    "# Rename all columns containing 'Overall Grade' to 'Overall Grade' in combined_df\n",
    "combined_df.columns = [\n",
    "    'Overall Grade' if 'Overall Grade' in col else col \n",
    "    for col in combined_df.columns\n",
    "]\n",
    "\n",
    "# Display updated columns\n",
    "print(combined_df.columns)\n"
   ]
  },
  {
   "cell_type": "code",
   "execution_count": null,
   "id": "70885845-4e24-4395-89d9-917d888831aa",
   "metadata": {},
   "outputs": [],
   "source": [
    "combined_df"
   ]
  },
  {
   "cell_type": "code",
   "execution_count": null,
   "id": "05704423-6661-4c40-bfc6-38ece9254464",
   "metadata": {},
   "outputs": [],
   "source": [
    "id_columns = ['Last Name', 'First Name', 'Username', 'Student ID', 'Last Access', 'Availability', 'Course Name', 'Term']\n",
    "\n",
    "# Melt the DataFrame\n",
    "long_df = pd.melt(combined_df, \n",
    "                  id_vars=id_columns, \n",
    "                  var_name='Exam Details', \n",
    "                  value_name='Score')\n",
    "\n"
   ]
  },
  {
   "cell_type": "code",
   "execution_count": null,
   "id": "663a414f-8f6b-47e6-920d-299bb732e9b4",
   "metadata": {},
   "outputs": [],
   "source": [
    "long_df"
   ]
  },
  {
   "cell_type": "code",
   "execution_count": null,
   "id": "db0d5eb9-2397-40b9-9a27-c4d45d70b1dd",
   "metadata": {},
   "outputs": [],
   "source": [
    "# Extract details from 'Exam Details' column using regex\n",
    "long_df['Exam Name'] = long_df['Exam Details'].str.extract(r'^(.*?) \\[', expand=True)\n",
    "long_df['Total Points'] = long_df['Exam Details'].str.extract(r'Total Pts: (\\d+(\\.\\d+)?)', expand=True)[0]\n",
    "long_df['Score Type'] = long_df['Exam Details'].str.extract(r'Total Pts: .*? (\\w+)', expand=True)"
   ]
  },
  {
   "cell_type": "code",
   "execution_count": null,
   "id": "6ca1bf3f-2919-426b-ba4c-86703c374728",
   "metadata": {},
   "outputs": [],
   "source": [
    "long_df"
   ]
  },
  {
   "cell_type": "code",
   "execution_count": null,
   "id": "f133f4df-48e1-45de-ab4b-1bbfd2160560",
   "metadata": {},
   "outputs": [],
   "source": [
    "# Drop original 'Exam Details' column to tidy up\n",
    "tidy_df = long_df.drop(columns=['Exam Details'])\n",
    "\n",
    "# Optional: Fill in missing values or filter rows as needed\n",
    "tidy_df = tidy_df.dropna(subset=['Exam Name', 'Score'])\n"
   ]
  },
  {
   "cell_type": "code",
   "execution_count": null,
   "id": "22f404e8-8ae7-4fa8-8524-0d56c8839a57",
   "metadata": {},
   "outputs": [],
   "source": [
    "tidy_df['Student Name'] = tidy_df['Last Name'] + ', ' + tidy_df['First Name']\n",
    "tidy_df = tidy_df.drop(columns=['Last Name', 'First Name'])"
   ]
  },
  {
   "cell_type": "code",
   "execution_count": null,
   "id": "cc95f680-5c01-4c4b-9deb-1d0433b44688",
   "metadata": {},
   "outputs": [],
   "source": [
    "tidy_df"
   ]
  },
  {
   "cell_type": "code",
   "execution_count": null,
   "id": "1e52ad96-d849-4d4c-b5e0-bd1c4762d9fa",
   "metadata": {},
   "outputs": [],
   "source": [
    "#tidy_df.to_excel('CO2026-Grades-Master.xlsx', index='False')"
   ]
  },
  {
   "cell_type": "code",
   "execution_count": null,
   "id": "a47d9838-3bee-478e-be41-da6a638c236c",
   "metadata": {},
   "outputs": [],
   "source": [
    "gpa_df = gpa_df.drop(columns=['variable']).dropna()\n",
    "\n",
    "gpa_df"
   ]
  },
  {
   "cell_type": "code",
   "execution_count": null,
   "id": "39992656-8b35-4a94-9fb2-8a4e446e45b2",
   "metadata": {},
   "outputs": [],
   "source": [
    "final_df = pd.merge(tidy_df, gpa_df, on=['Student ID', 'Course Name'])\n",
    "final_df"
   ]
  },
  {
   "cell_type": "code",
   "execution_count": null,
   "id": "04045234-adce-48aa-9abf-74700902264c",
   "metadata": {},
   "outputs": [],
   "source": [
    "final_df.columns"
   ]
  },
  {
   "cell_type": "code",
   "execution_count": null,
   "id": "8454fb17-369a-4eb5-a193-c51bdcf665f7",
   "metadata": {},
   "outputs": [],
   "source": [
    "final_df=final_df.rename(columns={'Overall GPA':'Overall Course GPA'})"
   ]
  },
  {
   "cell_type": "code",
   "execution_count": null,
   "id": "600e4bb2-5073-41ee-ba36-bba1e14c6249",
   "metadata": {},
   "outputs": [],
   "source": [
    "prog_gpa_df = pd.read_csv('CO2026-ProgramGPAs/Student Grades.csv')\n",
    "prog_gpa_df"
   ]
  },
  {
   "cell_type": "code",
   "execution_count": null,
   "id": "a74c31af-72de-4eb8-bacd-454c51231d61",
   "metadata": {},
   "outputs": [],
   "source": [
    "prog_gpa_df = prog_gpa_df.rename(columns={'Textbox10':'StudentID'})"
   ]
  },
  {
   "cell_type": "code",
   "execution_count": null,
   "id": "7b213258-32df-4fb2-826d-ccb40cd8798b",
   "metadata": {},
   "outputs": [],
   "source": [
    "prog_gpa_df = prog_gpa_df[['StudentID', 'ProgramGPA']]\n",
    "prog_gpa_df"
   ]
  },
  {
   "cell_type": "code",
   "execution_count": null,
   "id": "54044152-4f01-497f-b148-7535eac6fbc7",
   "metadata": {},
   "outputs": [],
   "source": [
    "final_df = pd.merge(final_df, prog_gpa_df, left_on='Student ID', right_on='StudentID', how='left')"
   ]
  },
  {
   "cell_type": "code",
   "execution_count": null,
   "id": "b17d1b56-d14e-46fb-b841-1229819e7c19",
   "metadata": {},
   "outputs": [],
   "source": [
    "final_df = final_df.drop(columns='StudentID')"
   ]
  },
  {
   "cell_type": "code",
   "execution_count": null,
   "id": "5176a102-4dba-4dcd-8a94-faee1b2592cc",
   "metadata": {},
   "outputs": [],
   "source": [
    "final_df"
   ]
  },
  {
   "cell_type": "code",
   "execution_count": null,
   "id": "a59cfa0a-a9f7-4a14-9fbb-e21deb6dbd63",
   "metadata": {},
   "outputs": [],
   "source": [
    "final_df['Course Name'] = final_df['Course Name'].str.replace('CO26 ', '')"
   ]
  },
  {
   "cell_type": "code",
   "execution_count": null,
   "id": "672e893b-fbbf-4d6e-b935-ee36f0d1c804",
   "metadata": {},
   "outputs": [],
   "source": [
    "def assign_credits(x):\n",
    "    if x == 'Diagnostic Medicine I':\n",
    "        return 2.5\n",
    "    elif x == 'Infectious Disease':\n",
    "        return 3\n",
    "    elif x == 'Medical Sciences I':\n",
    "        return 4\n",
    "    elif x == 'Patient Assessment Clinical Reasoning I':\n",
    "        return 2.5\n",
    "    elif x == 'Pharmacology I':\n",
    "        return 2\n",
    "    elif x == 'Principles of Medicine I':\n",
    "        return 5\n",
    "    elif x == 'Behavioral Health Mental Health Medicine': \n",
    "        return 2\n",
    "    elif x == 'Diagnostic Medicine II':\n",
    "        return 2.5\n",
    "    elif x == 'Medical Science II':\n",
    "        return 4\n",
    "    elif x == 'Pharmacology II':\n",
    "        return 2\n",
    "    elif x == 'Population Health & Wellness':\n",
    "        return 2\n",
    "    elif x == 'Principles of Medicine II':\n",
    "        return 7\n",
    "    elif x == 'Patient Assessment Clinical Reasoning II':\n",
    "        return 3\n",
    "    else: \n",
    "        return 0"
   ]
  },
  {
   "cell_type": "code",
   "execution_count": null,
   "id": "acbfec25-52af-4c57-9367-1bb9785e4646",
   "metadata": {},
   "outputs": [],
   "source": [
    "final_df['Credits'] = final_df['Course Name'].apply(assign_credits)"
   ]
  },
  {
   "cell_type": "code",
   "execution_count": null,
   "id": "fbe039aa-dc5e-4223-86c2-0de864e84708",
   "metadata": {},
   "outputs": [],
   "source": [
    "final_df.head()"
   ]
  },
  {
   "cell_type": "code",
   "execution_count": null,
   "id": "2b768f03-9d91-4076-8d70-59f96cb6a8e5",
   "metadata": {},
   "outputs": [],
   "source": [
    "final_df.to_excel('CO2026-Live-Master-31225.xlsx')"
   ]
  }
 ],
 "metadata": {
  "kernelspec": {
   "display_name": "Python 3 (ipykernel)",
   "language": "python",
   "name": "python3"
  },
  "language_info": {
   "codemirror_mode": {
    "name": "ipython",
    "version": 3
   },
   "file_extension": ".py",
   "mimetype": "text/x-python",
   "name": "python",
   "nbconvert_exporter": "python",
   "pygments_lexer": "ipython3",
   "version": "3.12.4"
  }
 },
 "nbformat": 4,
 "nbformat_minor": 5
}
